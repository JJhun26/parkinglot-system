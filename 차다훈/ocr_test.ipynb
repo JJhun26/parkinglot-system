{
 "cells": [
  {
   "cell_type": "code",
   "execution_count": 101,
   "id": "24195bdf",
   "metadata": {},
   "outputs": [],
   "source": [
    "import easyocr\n",
    "import re\n",
    "from pathlib import Path\n",
    "import cv2\n",
    "import sys\n",
    "import numpy as np"
   ]
  },
  {
   "cell_type": "code",
   "execution_count": 97,
   "id": "980bca71",
   "metadata": {},
   "outputs": [
    {
     "name": "stderr",
     "output_type": "stream",
     "text": [
      "Neither CUDA nor MPS are available - defaulting to CPU. Note: This module is much faster with a GPU.\n"
     ]
    },
    {
     "data": {
      "text/plain": [
       "<generator object Path.rglob at 0x707ba29e9be0>"
      ]
     },
     "execution_count": 97,
     "metadata": {},
     "output_type": "execute_result"
    }
   ],
   "source": [
    "reader = easyocr.Reader(['en', 'ko'])\n",
    "\n",
    "image_paths = Path('number_images').rglob('*.png')\n",
    "\n",
    "image_paths\n",
    "\n",
    "# res = reader.readtext(image_path)"
   ]
  },
  {
   "cell_type": "code",
   "execution_count": null,
   "id": "0539b350",
   "metadata": {},
   "outputs": [
    {
     "name": "stdout",
     "output_type": "stream",
     "text": [
      "number_images/image copy.png\n",
      "\n",
      "157고4895\n",
      "number_images/image copy 3.png\n",
      "\n"
     ]
    },
    {
     "name": "stderr",
     "output_type": "stream",
     "text": [
      "/home/intel/repo/parkinglot-system/차다훈/.venv/lib/python3.12/site-packages/torch/utils/data/dataloader.py:666: UserWarning: 'pin_memory' argument is set as true but no accelerator is found, then device pinned memory won't be used.\n",
      "  warnings.warn(warn_msg)\n",
      "/home/intel/repo/parkinglot-system/차다훈/.venv/lib/python3.12/site-packages/torch/utils/data/dataloader.py:666: UserWarning: 'pin_memory' argument is set as true but no accelerator is found, then device pinned memory won't be used.\n",
      "  warnings.warn(warn_msg)\n"
     ]
    },
    {
     "name": "stdout",
     "output_type": "stream",
     "text": [
      "154러7070\n",
      "[Ton\n",
      "number_images/image.png\n",
      "\n",
      "KKOR\n",
      "123가 4568\n",
      "number_images/image copy 2.png\n",
      "\n",
      "123 가 4567\n"
     ]
    },
    {
     "name": "stderr",
     "output_type": "stream",
     "text": [
      "/home/intel/repo/parkinglot-system/차다훈/.venv/lib/python3.12/site-packages/torch/utils/data/dataloader.py:666: UserWarning: 'pin_memory' argument is set as true but no accelerator is found, then device pinned memory won't be used.\n",
      "  warnings.warn(warn_msg)\n",
      "/home/intel/repo/parkinglot-system/차다훈/.venv/lib/python3.12/site-packages/torch/utils/data/dataloader.py:666: UserWarning: 'pin_memory' argument is set as true but no accelerator is found, then device pinned memory won't be used.\n",
      "  warnings.warn(warn_msg)\n"
     ]
    }
   ],
   "source": [
    "import cv2\n",
    "import sys\n",
    "import easyocr\n",
    "import re\n",
    "\n",
    "reader = easyocr.Reader(['ko', 'en'])\n",
    "\n",
    "cap_dev_id = 0\n",
    "try:\n",
    "    cap_dev_id = sys.argv[1]\n",
    "    cap_dev_id = int(sys.argv[1])\n",
    "except IndexError:\n",
    "    print(f\"Info: Using default camera 0\")\n",
    "    cap_dev_id = 0\n",
    "except ValueError as e:\n",
    "    print(f\"Error: {e}\")\n",
    "    exit()\n",
    "\n",
    "cap = cv2.VideoCapture(cap_dev_id)\n",
    "if not cap.isOpened():\n",
    "    print(\"Error: Could not open camera\")\n",
    "    exit()\n",
    "\n",
    "print(\"Press 'q' to quit\")\n",
    "\n",
    "def is_plate(text):\n",
    "    pattern = r'^[0-9]{3}[가-힣]{1}[0-9]{4}$'\n",
    "    return bool(re.match(pattern, text))\n",
    "\n",
    "while True:\n",
    "    ret, frame = cap.read()\n",
    "\n",
    "    if not ret:\n",
    "        print(\"Error: Could not read frame\")\n",
    "        break\n",
    "\n",
    "    result = reader.readtext(frame)\n",
    "\n",
    "    for (bbox, text, prob) in result:\n",
    "        cleaned_text = text.replace(' ', '').upper()\n",
    "            \n",
    "        if is_plate(cleaned_text):\n",
    "            print(f\"License Plate Detected: {cleaned_text}\")\n",
    "                \n",
    "            box = np.array(bbox, dtype=int)\n",
    "            cv2.polylines(frame, [box], isClosed=True, color=(0, 255, 0), thickness=2)\n",
    "            cv2.putText(frame, cleaned_text, (box[0][0], box[0][1] - 10), cv2.FONT_HERSHEY_SIMPLEX, 1, (0, 255, 0), 2)\n",
    "\n",
    "    cv2.imshow('License Plate Detection', frame)\n",
    "\n",
    "    if cv2.waitKey(1) & 0xFF == ord('q'):\n",
    "        break\n",
    "\n",
    "cap.release()\n",
    "cv2.destroyAllWindows()\n"
   ]
  },
  {
   "cell_type": "code",
   "execution_count": 98,
   "id": "ca510f9e",
   "metadata": {},
   "outputs": [
    {
     "name": "stdout",
     "output_type": "stream",
     "text": [
      "\n",
      "157고4895 <re.Match object; span=(0, 8), match='157고4895'>\n",
      "\n"
     ]
    },
    {
     "name": "stderr",
     "output_type": "stream",
     "text": [
      "/home/intel/repo/parkinglot-system/차다훈/.venv/lib/python3.12/site-packages/torch/utils/data/dataloader.py:666: UserWarning: 'pin_memory' argument is set as true but no accelerator is found, then device pinned memory won't be used.\n",
      "  warnings.warn(warn_msg)\n",
      "/home/intel/repo/parkinglot-system/차다훈/.venv/lib/python3.12/site-packages/torch/utils/data/dataloader.py:666: UserWarning: 'pin_memory' argument is set as true but no accelerator is found, then device pinned memory won't be used.\n",
      "  warnings.warn(warn_msg)\n"
     ]
    },
    {
     "name": "stdout",
     "output_type": "stream",
     "text": [
      "154러7070 <re.Match object; span=(0, 8), match='154러7070'>\n",
      "[Ton None\n",
      "\n",
      "KKOR None\n",
      "123가4568 <re.Match object; span=(0, 8), match='123가4568'>\n",
      "\n",
      "123가4567 <re.Match object; span=(0, 8), match='123가4567'>\n"
     ]
    },
    {
     "name": "stderr",
     "output_type": "stream",
     "text": [
      "/home/intel/repo/parkinglot-system/차다훈/.venv/lib/python3.12/site-packages/torch/utils/data/dataloader.py:666: UserWarning: 'pin_memory' argument is set as true but no accelerator is found, then device pinned memory won't be used.\n",
      "  warnings.warn(warn_msg)\n",
      "/home/intel/repo/parkinglot-system/차다훈/.venv/lib/python3.12/site-packages/torch/utils/data/dataloader.py:666: UserWarning: 'pin_memory' argument is set as true but no accelerator is found, then device pinned memory won't be used.\n",
      "  warnings.warn(warn_msg)\n"
     ]
    }
   ],
   "source": [
    "for image_path in image_paths:\n",
    "    file_path = str(image_path)\n",
    "    print()\n",
    "    res = reader.readtext(file_path)\n",
    "    if not res:\n",
    "        print('번호판 인식 실패')\n",
    "        continue\n",
    "    for box, text, conf in res:\n",
    "        text = text.replace(' ', '')\n",
    "        text_res = re.match(r'^[0-9]{3}[가-힣]{1}[0-9]{4}$', text)\n",
    "        print(text, text_res)\n",
    "        "
   ]
  },
  {
   "cell_type": "code",
   "execution_count": null,
   "id": "36600dd2",
   "metadata": {},
   "outputs": [],
   "source": [
    "cap = cv2.VideoCapture(0)"
   ]
  },
  {
   "cell_type": "code",
   "execution_count": null,
   "id": "2ac2047e",
   "metadata": {},
   "outputs": [],
   "source": []
  },
  {
   "cell_type": "code",
   "execution_count": null,
   "id": "e031c521",
   "metadata": {},
   "outputs": [],
   "source": []
  },
  {
   "cell_type": "code",
   "execution_count": null,
   "id": "1eb4cd28",
   "metadata": {},
   "outputs": [],
   "source": []
  },
  {
   "cell_type": "code",
   "execution_count": null,
   "id": "8ffd3926",
   "metadata": {},
   "outputs": [],
   "source": []
  },
  {
   "cell_type": "code",
   "execution_count": null,
   "id": "4479152f",
   "metadata": {},
   "outputs": [],
   "source": []
  }
 ],
 "metadata": {
  "kernelspec": {
   "display_name": ".venv",
   "language": "python",
   "name": "python3"
  },
  "language_info": {
   "codemirror_mode": {
    "name": "ipython",
    "version": 3
   },
   "file_extension": ".py",
   "mimetype": "text/x-python",
   "name": "python",
   "nbconvert_exporter": "python",
   "pygments_lexer": "ipython3",
   "version": "3.12.3"
  }
 },
 "nbformat": 4,
 "nbformat_minor": 5
}
