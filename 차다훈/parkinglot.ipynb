{
 "cells": [
  {
   "cell_type": "code",
   "execution_count": 31,
   "id": "85825556",
   "metadata": {},
   "outputs": [
    {
     "data": {
      "text/plain": [
       "[[0, 1, 2, 3, 4, 5, 6, 7, 8, 9],\n",
       " [10, 11, 12, 13, 14, 15, 16, 17, 18, 19],\n",
       " [20, 21, 22, 23, 24, 25, 26, 27, 28, 29],\n",
       " [30, 31, 32, 33, 34, 35, 36, 37, 38, 39]]"
      ]
     },
     "execution_count": 31,
     "metadata": {},
     "output_type": "execute_result"
    }
   ],
   "source": [
    "[[floor * 10 + spot for spot in range(10)] for floor in range(4)]"
   ]
  },
  {
   "cell_type": "code",
   "execution_count": null,
   "metadata": {},
   "outputs": [
    {
     "name": "stdout",
     "output_type": "stream",
     "text": [
      "\n",
      "===== 주차타워 시스템 =====\n",
      "1. 입차\n",
      "2. 출차\n",
      "3. 종료\n",
      "\n",
      "현재 주차 상태:\n",
      "4층: [0, 0, 0, 0, 0, 0, 0, 0, 0, 0]\n",
      "3층: [0, 0, 0, 0, 0, 0, 0, 0, 0, 0]\n",
      "2층: [0, 0, 0, 0, 0, 0, 0, 0, 0, 0]\n",
      "1층: [0, 0, 0, 0, 0, 0, 0, 0, 0, 0]\n",
      "프로그램을 종료합니다.\n"
     ]
    }
   ],
   "source": [
    "tower = {}\n",
    "for floor in range(1, 5): \n",
    "    for spot in ['A','B','C','D','E','F','G','H','I','J']:\n",
    "        tower[(floor, spot)] = 0\n",
    "\n",
    "disabled_spots = [(1, 'A'), (1, 'B'), (1, 'C')]\n",
    "ev_spots = [(1, 'H'), (1, 'I'), (1, 'J')]\n",
    "\n",
    "cars = []\n",
    "\n",
    "while True:\n",
    "    print()\n",
    "    print('===== 주차타워 시스템 =====')\n",
    "    print('1. 입차')\n",
    "    print('2. 출차')\n",
    "    print('3. 종료')\n",
    "\n",
    "    print()\n",
    "    print('현재 주차 상태:')\n",
    "    for floor in range(4, 0, -1):\n",
    "        line = []\n",
    "        for spot in ['A','B','C','D','E','F','G','H','I','J']:\n",
    "            line.append(tower[(floor, spot)])\n",
    "        print(f'{floor}층:', line)\n",
    "\n",
    "    menu = input('선택: ')\n",
    "\n",
    "    if menu == '1':\n",
    "        print()\n",
    "        print('[입차 시작]')\n",
    "        car_num = input('차량 번호: ')\n",
    "        in_time = int(input('입차 시간 (분 단위): '))\n",
    "        discount = input('할인 대상 (국가유공자/다자녀/없음): ')\n",
    "\n",
    "        try:\n",
    "            floor = int(input('층 입력 (1~4): '))\n",
    "            if floor < 1 or floor > 4:\n",
    "                print('잘못된 층 입력')\n",
    "                continue\n",
    "        except:\n",
    "            print('층 입력은 숫자여야 합니다')\n",
    "            continue\n",
    "\n",
    "        spot = input('자리 입력 (A~J): ').upper()\n",
    "        if spot not in ['A','B','C','D','E','F','G','H','I','J']:\n",
    "            print('잘못된 자리 입력입니다.')\n",
    "            continue\n",
    "\n",
    "        if (floor, spot) in disabled_spots:\n",
    "            print('해당 자리는 장애인 전용 자리입니다')\n",
    "            continue\n",
    "        if (floor, spot) in ev_spots:\n",
    "            print('해당 자리는 전기차 전용 자리입니다')\n",
    "\n",
    "        if tower[(floor, spot)] == 0:\n",
    "            tower[(floor, spot)] = car_num\n",
    "            cars.append([car_num, in_time, (floor, spot), discount])\n",
    "            print(f'입차 완료! 자리: {floor}층 {spot}번')\n",
    "        else:\n",
    "            print('해당 자리는 이미 사용 중입니다')\n",
    "\n",
    "    elif menu == '2':\n",
    "        print()\n",
    "        print('[출차 시작]')\n",
    "        car_num = input('차량 번호: ')\n",
    "        out_time = int(input('주차 시간 (분 단위): '))\n",
    "\n",
    "        found = False\n",
    "        for car in cars:\n",
    "            if car[0] == car_num:\n",
    "                in_time = car[1]\n",
    "                floor, spot = car[2]\n",
    "                discount = car[3]\n",
    "                found = True\n",
    "                break\n",
    "\n",
    "        if not found:\n",
    "            print('해당 차량이 등록되어 있지 않습니다')\n",
    "        else:\n",
    "            duration = out_time - in_time\n",
    "            charged_time = max(0, duration - 30)\n",
    "            blocks = (charged_time + 29) // 30\n",
    "            fee = blocks * 3000\n",
    "\n",
    "            if discount == '국가유공자':\n",
    "                fee = int(fee * 0.2)\n",
    "            elif discount == '다자녀':\n",
    "                fee = int(fee * 0.5)\n",
    "\n",
    "            print('총 주차시간:', duration, '분')\n",
    "            print('요금:', fee, '원')\n",
    "\n",
    "            tower[(floor, spot)] = 0\n",
    "            cars = [c for c in cars if c[0] != car_num]\n",
    "\n",
    "    elif menu == '3':\n",
    "        print('프로그램을 종료')\n",
    "        break\n",
    "\n",
    "    else:\n",
    "        print('잘못된 입력')\n"
   ]
  },
  {
   "cell_type": "code",
   "execution_count": null,
   "metadata": {},
   "outputs": [],
   "source": []
  },
  {
   "cell_type": "code",
   "execution_count": null,
   "metadata": {},
   "outputs": [],
   "source": []
  }
 ],
 "metadata": {
  "kernelspec": {
   "display_name": "venv",
   "language": "python",
   "name": "python3"
  },
  "language_info": {
   "codemirror_mode": {
    "name": "ipython",
    "version": 3
   },
   "file_extension": ".py",
   "mimetype": "text/x-python",
   "name": "python",
   "nbconvert_exporter": "python",
   "pygments_lexer": "ipython3",
   "version": "3.13.7"
  }
 },
 "nbformat": 4,
 "nbformat_minor": 5
}
